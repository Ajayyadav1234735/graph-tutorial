{
 "cells": [
  {
   "cell_type": "markdown",
   "id": "fb04b9f5",
   "metadata": {},
   "source": [
    "# 🌳 Graphs and Trees — Easy Python Guide\n",
    "\n",
    "Welcome! 👋  \n",
    "This notebook is a **simple and friendly guide** to help you learn **Graphs** and **Trees** using Python.  \n",
    "\n",
    "Think of it like a mini-tutorial — each topic comes with:\n",
    "- ✨ **Easy explanations** in plain English  \n",
    "- 🧠 **Step-by-step logic** so you really understand what's happening  \n",
    "- 💻 **Python code** that’s clean and full of comments\n",
    "\n",
    "Whether you're just starting out or brushing up on the basics, this notebook is here to make these topics feel less scary and way more fun!\n",
    "\n",
    "Let’s get started and grow our graph & tree skills together! 🌱\n"
   ]
  },
  {
   "cell_type": "markdown",
   "id": "54cd9cda",
   "metadata": {},
   "source": [
    "## Graph Assignment Questions"
   ]
  },
  {
   "cell_type": "markdown",
   "id": "3637d41d",
   "metadata": {},
   "source": [
    "Representation"
   ]
  },
  {
   "cell_type": "markdown",
   "id": "0e118018",
   "metadata": {},
   "source": [
    "## 📌 Representing a Graph in Python\n",
    "\n",
    "There are different ways to represent a graph in code. Let's look at three common methods using a simple graph with nodes: `A, B, C, D, E, F`.\n",
    "\n",
    "---\n",
    "\n",
    "### 🧩 1. Adjacency List\n",
    "\n",
    "Each node is a key, and the value is a list of nodes it's directly connected to.\n",
    "\n",
    "---\n",
    "\n",
    "### 📊 2. Adjacency Matrix\n",
    "\n",
    "A 2D list (matrix) where:\n",
    "- Each row and column represents a node\n",
    "- `1` means there is an edge between the nodes\n",
    "- `0` means there is no edge\n",
    "\n",
    "---\n",
    "\n",
    "### 🔗 3. Edge List\n",
    "\n",
    "A list of edges, where each edge is a pair (tuple) of nodes connected by an edge.\n",
    "\n",
    "---\n",
    "\n",
    "### ✅ Summary\n",
    "\n",
    "| Method            | Description                                              | Best For                    |\n",
    "|-------------------|----------------------------------------------------------|-----------------------------|\n",
    "| Adjacency List    | Easy to read, saves space for sparse graphs              | Most commonly used          |\n",
    "| Adjacency Matrix  | Fast lookup if two nodes are connected                   | Dense graphs                |\n",
    "| Edge List         | Simple list of all edges                                 | Algorithms like Kruskal's   |\n",
    "\n",
    "Now you’ve got 3 ways to model a graph — pick the one that fits your use case! 🚀\n"
   ]
  },
  {
   "cell_type": "code",
   "execution_count": 1,
   "id": "ba58fd8a",
   "metadata": {},
   "outputs": [],
   "source": [
    "# List of all nodes present in the graph\n",
    "node_list = ['A', 'B', 'C', 'D', 'E', 'F']\n",
    "\n",
    "# Graph representation using Adjacency List\n",
    "# Each key is a node, and its value is the list of neighbors it's directly connected to\n",
    "AdjList = {\n",
    "    'A': ['B', 'D', 'E'],\n",
    "    'B': ['A', 'D', 'C'],\n",
    "    'C': ['B', 'D'],\n",
    "    'D': ['A', 'B', 'C', 'E'],\n",
    "    'E': ['A', 'D', 'F'],\n",
    "    'F': ['E']\n",
    "}\n",
    "\n",
    "# Graph representation using Adjacency Matrix\n",
    "# A 2D matrix where 1 represents an edge between nodes and 0 means no edge\n",
    "adjMat = [\n",
    "    [0, 1, 0, 1, 1, 0],  # Connections for A\n",
    "    [1, 0, 1, 1, 0, 0],  # Connections for B\n",
    "    [0, 1, 0, 1, 0, 0],  # Connections for C\n",
    "    [1, 1, 1, 0, 1, 0],  # Connections for D\n",
    "    [1, 0, 0, 1, 0, 1],  # Connections for E\n",
    "    [0, 0, 0, 0, 1, 0]   # Connections for F\n",
    "]\n",
    "\n",
    "# Graph representation using Edge List\n",
    "# Each tuple represents an edge between two nodes\n",
    "EdgeList = [\n",
    "    ('A', 'B'), ('A', 'D'), ('A', 'E'),\n",
    "    ('B', 'D'), ('B', 'C'),\n",
    "    ('C', 'D'),\n",
    "    ('D', 'E'),\n",
    "    ('E', 'F')\n",
    "]\n"
   ]
  },
  {
   "cell_type": "markdown",
   "id": "9cdfc9c7",
   "metadata": {},
   "source": [
    "## Find the degree of each vertex and sort them by degree.\n",
    "\n",
    "We are given a graph of any form.\n",
    "Calculate the degree for each node.\n",
    "Store the result in a dictionary.\n",
    "Sort the dictionary by values in increasing order."
   ]
  },
  {
   "cell_type": "code",
   "execution_count": 2,
   "id": "213c5d44",
   "metadata": {},
   "outputs": [
    {
     "data": {
      "text/plain": [
       "{'F': 1, 'C': 2, 'A': 3, 'E': 3, 'B': 3, 'D': 4}"
      ]
     },
     "execution_count": 2,
     "metadata": {},
     "output_type": "execute_result"
    }
   ],
   "source": [
    "# Function to compute the degree of each node in a graph\n",
    "# Compatible with: Adjacency List, Adjacency Matrix, and Edge List\n",
    "def calculate_degrees(graph):\n",
    "    degree_map = {}  # Dictionary to store node degrees\n",
    "\n",
    "    # Case 1: Adjacency List representation (dictionary)\n",
    "    if isinstance(graph, dict):\n",
    "        for node in graph:\n",
    "            degree_map[node] = len(graph[node])\n",
    "\n",
    "    # Case 2: Adjacency Matrix representation (2D list)\n",
    "    elif isinstance(graph, list) and isinstance(graph[0], list):\n",
    "        for i in range(len(graph)):\n",
    "            connected = sum(graph[i])  # Sum of 1s gives degree\n",
    "            degree_map[node_list[i]] = connected\n",
    "\n",
    "    # Case 3: Edge List representation (list of tuples)\n",
    "    elif isinstance(graph, list) and isinstance(graph[0], tuple):\n",
    "        for node in node_list:\n",
    "            degree_map[node] = 0\n",
    "        for edge in graph:\n",
    "            u, v = edge\n",
    "            degree_map[u] += 1\n",
    "            degree_map[v] += 1\n",
    "\n",
    "    return sort_degrees(degree_map)\n",
    "\n",
    "# Function to sort the degree dictionary in ascending order using bubble sort\n",
    "def sort_degrees(degree_map):\n",
    "    nodes = list(degree_map.keys())\n",
    "    degrees = list(degree_map.values())\n",
    "\n",
    "    for i in range(len(degrees)):\n",
    "        for j in range(i + 1, len(degrees)):\n",
    "            if degrees[i] > degrees[j]:\n",
    "                degrees[i], degrees[j] = degrees[j], degrees[i]\n",
    "                nodes[i], nodes[j] = nodes[j], nodes[i]\n",
    "\n",
    "    return {nodes[i]: degrees[i] for i in range(len(nodes))}\n",
    "\n",
    "# Example usage with adjacency matrix\n",
    "calculate_degrees(adjMat)\n"
   ]
  },
  {
   "cell_type": "markdown",
   "id": "26b9eb72",
   "metadata": {},
   "source": [
    "## Graph Representation Inter-Conversion"
   ]
  },
  {
   "cell_type": "code",
   "execution_count": 3,
   "id": "4b97ec1d",
   "metadata": {},
   "outputs": [],
   "source": [
    "# 🔁 Convert Adjacency List to both Adjacency Matrix and Edge List\n",
    "def convert_adjlist(adj_list, nodes):\n",
    "    size = len(nodes)\n",
    "\n",
    "    # Step 1: Create an empty adjacency matrix (filled with zeros)\n",
    "    matrix = [[0 for _ in range(size)] for _ in range(size)]\n",
    "    \n",
    "    # Step 2: Prepare an empty edge list\n",
    "    edges = []\n",
    "\n",
    "    # Step 3: Fill matrix and build edge list\n",
    "    for source in adj_list:\n",
    "        for target in adj_list[source]:\n",
    "            i = nodes.index(source)\n",
    "            j = nodes.index(target)\n",
    "            matrix[i][j] = 1  # Connection found\n",
    "\n",
    "            # Add edge only if not already added (undirected)\n",
    "            if (target, source) not in edges:\n",
    "                edges.append((source, target))\n",
    "\n",
    "    return matrix, edges\n",
    "\n",
    "\n",
    "# 🔁 Convert either Adjacency Matrix or Edge List into Adjacency List\n",
    "def convert_to_adjlist(data, nodes):\n",
    "    adj_list = {node: [] for node in nodes}\n",
    "\n",
    "    # Case 1: If it's a matrix\n",
    "    if isinstance(data[0], list):\n",
    "        for i in range(len(data)):\n",
    "            for j in range(len(data[i])):\n",
    "                if data[i][j] == 1:\n",
    "                    u = nodes[i]\n",
    "                    v = nodes[j]\n",
    "                    if v not in adj_list[u]:\n",
    "                        adj_list[u].append(v)\n",
    "\n",
    "    # Case 2: If it's an edge list\n",
    "    elif isinstance(data[0], tuple):\n",
    "        for edge in data:\n",
    "            u, v = edge\n",
    "            adj_list[u].append(v)\n",
    "            adj_list[v].append(u)  # For undirected graph\n",
    "\n",
    "    return adj_list\n",
    "\n",
    "\n",
    "# 🎯 Sample usage\n",
    "node_names = ['a', 'b', 'c', 'd', 'e', 'f']\n",
    "\n",
    "adj_list_input = {\n",
    "    'a': ['b', 'd', 'e'],\n",
    "    'b': ['a', 'd', 'c'],\n",
    "    'c': ['b', 'd'],\n",
    "    'd': ['a', 'b', 'c', 'e'],\n",
    "    'e': ['a', 'd', 'f'],\n",
    "    'f': ['e']\n",
    "}\n"
   ]
  },
  {
   "cell_type": "markdown",
   "id": "d5c13d16",
   "metadata": {},
   "source": [
    "###  Check if Two Vertices Are Adjacent (Adjacency List)\n"
   ]
  },
  {
   "cell_type": "code",
   "execution_count": 4,
   "id": "770add42",
   "metadata": {},
   "outputs": [
    {
     "name": "stdout",
     "output_type": "stream",
     "text": [
      "False\n",
      "True\n"
     ]
    }
   ],
   "source": [
    "# 🧩 List of graph nodes\n",
    "nodes = ['a', 'b', 'c', 'd', 'e', 'f']\n",
    "\n",
    "# 📋 Graph defined using an adjacency list\n",
    "graph_data = {\n",
    "    'a': ['b', 'd', 'e'],\n",
    "    'b': ['a', 'd', 'c'],\n",
    "    'c': ['b', 'd'],\n",
    "    'd': ['a', 'b', 'c', 'e'],\n",
    "    'e': ['a', 'd', 'f'],\n",
    "    'f': ['e']\n",
    "}\n",
    "\n",
    "# 🔍 Function to check if two nodes are directly connected\n",
    "def are_connected(adj_list, node1, node2):\n",
    "    if node1 in adj_list:\n",
    "        return node2 in adj_list[node1]\n",
    "    return False\n",
    "\n",
    "# ✅ Sample checks\n",
    "print(are_connected(graph_data, 'a', 'c'))  # False, no direct edge\n",
    "print(are_connected(graph_data, 'a', 'b'))  # True, edge exists\n"
   ]
  },
  {
   "cell_type": "markdown",
   "id": "f646edd9",
   "metadata": {},
   "source": [
    "### Check if a Graph is Complete"
   ]
  },
  {
   "cell_type": "code",
   "execution_count": 5,
   "id": "1fd25875",
   "metadata": {},
   "outputs": [
    {
     "name": "stdout",
     "output_type": "stream",
     "text": [
      "Is the graph complete? : False\n"
     ]
    }
   ],
   "source": [
    "# 🔗 Function to check if a graph is a complete graph\n",
    "# A complete graph has every node connected to every other node\n",
    "\n",
    "def is_complete(graph_data, nodes):\n",
    "    total = len(nodes)\n",
    "    \n",
    "    for current in nodes:\n",
    "        # In a complete graph, every node should connect to (n - 1) others\n",
    "        if current not in graph_data:\n",
    "            return False\n",
    "        if len(graph_data[current]) != total - 1:\n",
    "            return False\n",
    "            \n",
    "    return True\n",
    "\n",
    "# 📋 Test Case: Graph is NOT complete\n",
    "nodes = ['a', 'b', 'c', 'd', 'e', 'f']\n",
    "adjacency_list = {\n",
    "    'a': ['b', 'd', 'e'],\n",
    "    'b': ['a', 'd', 'c'],\n",
    "    'c': ['b', 'd'],\n",
    "    'd': ['a', 'b', 'c', 'e'],\n",
    "    'e': ['a', 'd', 'f'],\n",
    "    'f': ['e']\n",
    "}\n",
    "\n",
    "# 🧪 Checking the graph\n",
    "print(\"Is the graph complete? :\", is_complete(adjacency_list, nodes))  # Output: False\n"
   ]
  },
  {
   "cell_type": "markdown",
   "id": "a875647b",
   "metadata": {},
   "source": [
    "### Check if givem graph is Connected."
   ]
  },
  {
   "cell_type": "code",
   "execution_count": 7,
   "id": "8bf30d0e",
   "metadata": {},
   "outputs": [
    {
     "name": "stdout",
     "output_type": "stream",
     "text": [
      "True\n"
     ]
    }
   ],
   "source": [
    "from collections import deque\n",
    "\n",
    "# 🔍 Function to check if the graph is connected\n",
    "# A graph is connected if there's a path between every pair of nodes\n",
    "\n",
    "def is_graph_connected(graph, nodes):\n",
    "    visited_nodes = []  # To keep track of visited nodes\n",
    "    queue = deque([nodes[0]])  # Start BFS from the first node\n",
    "    visited_nodes.append(nodes[0])\n",
    "\n",
    "    while queue:\n",
    "        current_node = queue.popleft()\n",
    "        \n",
    "        if current_node in graph:\n",
    "            for neighbor in graph[current_node]:\n",
    "                if neighbor not in visited_nodes:\n",
    "                    visited_nodes.append(neighbor)\n",
    "                    queue.append(neighbor)\n",
    "\n",
    "    # If all nodes are visited, return True (graph is connected)\n",
    "    return len(visited_nodes) == len(nodes)\n",
    "\n",
    "\n",
    "# 📝 Test case for the function\n",
    "nodes = ['a', 'b', 'c', 'd', 'e', 'f']\n",
    "graph_data = {\n",
    "    'a': ['b', 'd', 'e'],\n",
    "    'b': ['a', 'd', 'c'],\n",
    "    'c': ['b', 'd'],\n",
    "    'd': ['a', 'b', 'c', 'e'],\n",
    "    'e': ['a', 'd', 'f'],\n",
    "    'f': ['e']\n",
    "}\n",
    "\n",
    "# 🧪 Checking if the graph is connected\n",
    "print(is_graph_connected(graph_data, nodes))  # Output: True (or False, depending on graph connectivity)\n"
   ]
  },
  {
   "cell_type": "markdown",
   "id": "cae6999c",
   "metadata": {},
   "source": [
    "## Given a graph and a list of vertices, check if it forms a walk, or a trail or a path or none of these.\n",
    "\n",
    "Given a graph and a list of vertices, we classify them as:\n",
    "- **Walk**: Vertices are connected.\n",
    "- **Trail**: No repeated edges.\n",
    "- **Path**: No repeated vertices."
   ]
  },
  {
   "cell_type": "code",
   "execution_count": 8,
   "id": "4ff8b6e6",
   "metadata": {},
   "outputs": [
    {
     "name": "stdout",
     "output_type": "stream",
     "text": [
      "NOTA\n",
      "NOTA\n",
      "NOTA\n",
      "NOTA\n"
     ]
    }
   ],
   "source": [
    "# 🔄 Function to determine if a given sequence of nodes forms a PATH, TRAIL, WALK, or is NOTA\n",
    "# A PATH has no repeated edges or vertices; a TRAIL has no repeated vertices; a WALK has no repeated edges; NOTA is invalid\n",
    "\n",
    "def classify_sequence(graph, sequence):\n",
    "    edges_traversed = []  # To store edges traversed in sequence\n",
    "    visited_nodes = []    # To track visited nodes\n",
    "\n",
    "    for i in range(len(sequence) - 1):\n",
    "        start, end = sequence[i], sequence[i + 1]\n",
    "        \n",
    "        # Check if edge exists in graph\n",
    "        if start not in graph or end not in graph[start]:\n",
    "            return \"NOTA\"  # Invalid sequence\n",
    "        \n",
    "        edge = [start, end]\n",
    "        reverse_edge = [end, start]\n",
    "\n",
    "        # Check if edge is already visited (for WALK)\n",
    "        if edge in edges_traversed or reverse_edge in edges_traversed:\n",
    "            return \"WALK\"  # Repeated edge found\n",
    "        \n",
    "        edges_traversed.append(edge)  # Mark edge as traversed\n",
    "\n",
    "        # Check if the node is visited (for TRAIL)\n",
    "        visited_nodes.append(start)\n",
    "        if end in visited_nodes:\n",
    "            return \"TRAIL\"  # Repeated node found\n",
    "\n",
    "    return \"PATH\"  # No repeated edges or nodes, it's a valid path\n",
    "\n",
    "\n",
    "# 📋 Test cases for classifying sequences\n",
    "node_sequence1 = ['a', 'c', 'e', 'f']\n",
    "node_sequence2 = ['a', 'b', 'd', 'e', 'f']\n",
    "node_sequence3 = ['a', 'b', 'd', 'b', 'c']\n",
    "node_sequence4 = ['a', 'b', 'd', 'b', 'a']\n",
    "\n",
    "# 🧪 Testing with different node sequences\n",
    "print(classify_sequence(AdjList, node_sequence1))  # Expected: \"NOTA\"\n",
    "print(classify_sequence(AdjList, node_sequence2))  # Expected: \"PATH\"\n",
    "print(classify_sequence(AdjList, node_sequence3))  # Expected: \"TRAIL\"\n",
    "print(classify_sequence(AdjList, node_sequence4))  # Expected: \"WALK\"\n"
   ]
  },
  {
   "cell_type": "markdown",
   "id": "f9e09347",
   "metadata": {},
   "source": [
    "## Check if a graph is a tree:\n"
   ]
  },
  {
   "cell_type": "code",
   "execution_count": null,
   "id": "38242b1e",
   "metadata": {},
   "outputs": [],
   "source": []
  },
  {
   "cell_type": "code",
   "execution_count": 9,
   "id": "0a0bdc17",
   "metadata": {},
   "outputs": [
    {
     "name": "stdout",
     "output_type": "stream",
     "text": [
      "Is the graph a tree? True\n",
      "Is the graph a tree? False\n"
     ]
    }
   ],
   "source": [
    "# 🌳 Function to determine if a graph is a tree\n",
    "# A graph is a tree if:\n",
    "# 1. It has exactly n-1 edges for n nodes\n",
    "# 2. It is fully connected (no disconnected components)\n",
    "# 3. It has no cycles (acyclic)\n",
    "\n",
    "def is_graph_tree(node_count, edge_list):\n",
    "    # A tree must have exactly n-1 edges\n",
    "    if len(edge_list) != node_count - 1:\n",
    "        return False\n",
    "\n",
    "    # Building an adjacency list from the edge list\n",
    "    adjacency_list = [[] for _ in range(node_count)]\n",
    "    for u, v in edge_list:\n",
    "        adjacency_list[u].append(v)\n",
    "        adjacency_list[v].append(u)\n",
    "\n",
    "    visited_nodes = [False] * node_count  # Track visited nodes\n",
    "\n",
    "    # Depth-First Search (DFS) to detect cycles and ensure connectivity\n",
    "    def dfs(node, parent):\n",
    "        visited_nodes[node] = True\n",
    "        for neighbor in adjacency_list[node]:\n",
    "            if not visited_nodes[neighbor]:  # If not visited, explore\n",
    "                if not dfs(neighbor, node):\n",
    "                    return False\n",
    "            elif neighbor != parent:  # Cycle detected\n",
    "                return False\n",
    "        return True\n",
    "\n",
    "    # Start DFS from the first node (node 0)\n",
    "    if not dfs(0, -1):\n",
    "        return False\n",
    "\n",
    "    # If any node is unvisited, the graph is disconnected\n",
    "    if any(not visited for visited in visited_nodes):\n",
    "        return False\n",
    "\n",
    "    return True  # It satisfies all tree conditions\n",
    "\n",
    "\n",
    "# ✅ Test Case 1: Valid Tree (Acyclic, Connected, and Exactly n-1 Edges)\n",
    "edges_1 = [(0, 1), (0, 2), (1, 3), (1, 4)]\n",
    "nodes_1 = 5\n",
    "print(\"Is the graph a tree?\", is_graph_tree(nodes_1, edges_1))  # Output: True\n",
    "\n",
    "# ❌ Test Case 2: Graph with a cycle (not a tree)\n",
    "edges_2 = [(0, 1), (1, 2), (2, 0), (1, 3)]\n",
    "nodes_2 = 4\n",
    "print(\"Is the graph a tree?\", is_graph_tree(nodes_2, edges_2))  # Output: False\n"
   ]
  },
  {
   "cell_type": "markdown",
   "id": "1b61562d",
   "metadata": {},
   "source": [
    "##  Find Spanning Tree of a Connected Cyclic Graph\n",
    "\n",
    "A **spanning tree** of a connected cyclic graph is a subgraph that:\n"
   ]
  },
  {
   "cell_type": "code",
   "execution_count": 10,
   "id": "1eee0507",
   "metadata": {},
   "outputs": [
    {
     "name": "stdout",
     "output_type": "stream",
     "text": [
      "Spanning Tree Edges:\n",
      "(0, 1)\n",
      "(1, 2)\n",
      "(1, 3)\n",
      "(3, 4)\n"
     ]
    }
   ],
   "source": [
    "# 🌳 Function to generate a Spanning Tree from a Connected Graph using DFS\n",
    "# A spanning tree connects all nodes with the minimum number of edges (n - 1 edges for n nodes)\n",
    "\n",
    "def generate_spanning_tree(node_count, edge_list):\n",
    "    # Create the adjacency list from the edge list\n",
    "    adjacency_list = [[] for _ in range(node_count)]\n",
    "    for u, v in edge_list:\n",
    "        adjacency_list[u].append(v)\n",
    "        adjacency_list[v].append(u)\n",
    "\n",
    "    visited_nodes = [False] * node_count  # Track visited nodes\n",
    "    tree_edges = []  # To store the edges of the spanning tree\n",
    "\n",
    "    # Depth-First Search (DFS) to explore the graph and build the spanning tree\n",
    "    def dfs(current_node):\n",
    "        visited_nodes[current_node] = True\n",
    "        for neighbor in adjacency_list[current_node]:\n",
    "            if not visited_nodes[neighbor]:\n",
    "                tree_edges.append((current_node, neighbor))  # Add edge to spanning tree\n",
    "                dfs(neighbor)  # Recur for the neighbor\n",
    "\n",
    "    # Start DFS from the first node (node 0)\n",
    "    dfs(0)\n",
    "\n",
    "    return tree_edges  # Return the edges that form the spanning tree\n",
    "\n",
    "\n",
    "# ✅ Test Case 1: Connected graph with extra edges\n",
    "edges_case_1 = [(0, 1), (0, 2), (1, 2), (1, 3), (3, 4)]\n",
    "node_count_case_1 = 5\n",
    "spanning_tree_case_1 = generate_spanning_tree(node_count_case_1, edges_case_1)\n",
    "\n",
    "print(\"Spanning Tree Edges:\")\n",
    "for edge in spanning_tree_case_1:\n",
    "    print(edge)\n",
    "# Expected Output: Should contain 4 edges that connect all 5 nodes\n"
   ]
  },
  {
   "cell_type": "markdown",
   "id": "509c09e0",
   "metadata": {},
   "source": [
    "## Given a tree, find the number of leaf nodes.\n",
    "\n",
    "A leaf node is a node with only one connected edge (i.e., degree = 1), except for the case where the tree has only one node"
   ]
  },
  {
   "cell_type": "code",
   "execution_count": null,
   "id": "66021bc7",
   "metadata": {},
   "outputs": [
    {
     "name": "stdout",
     "output_type": "stream",
     "text": [
      "Leaf nodes: 3\n"
     ]
    }
   ],
   "source": [
    "# Function to count the number of leaf nodes in an undirected graph\n",
    "# A leaf node is defined as a node with degree 1 (i.e., connected to only one other node)\n",
    "\n",
    "def count_leaf_nodes(n, edges):\n",
    "    # Step 1: Create an adjacency matrix of size n x n initialized with 0\n",
    "    adj = []\n",
    "    for i in range(n):\n",
    "        temp = []\n",
    "        for j in range(n):\n",
    "            temp.append(0)\n",
    "        adj.append(temp)\n",
    "    \n",
    "    # Step 2: Fill the adjacency matrix with edges\n",
    "    for u, v in edges:\n",
    "        adj[u][v] = 1\n",
    "        adj[v][u] = 1\n",
    "\n",
    "    # Step 3: Count nodes with degree 1 (leaf nodes)\n",
    "    leaf_count = 0\n",
    "    for i in range(n):\n",
    "        degree = 0\n",
    "        for j in range(n):\n",
    "            if adj[i][j] == 1:\n",
    "                degree += 1\n",
    "        # Leaf condition: degree = 1\n",
    "        # Also handle single isolated node case: n == 1 and degree == 0\n",
    "        if degree == 1 or (n == 1 and degree == 0):\n",
    "            leaf_count += 1\n",
    "\n",
    "    return leaf_count\n",
    "\n",
    "\n",
    "# ✅ Test Case \n",
    "n = 5\n",
    "edges = [(0, 1), (0, 2), (1, 3), (1, 4)]\n",
    "# Leaf nodes: 2, 3, 4 → Total = 3\n",
    "print(\"Leaf nodes:\", count_leaf_nodes(n, edges))\n"
   ]
  },
  {
   "cell_type": "markdown",
   "id": "6d581995",
   "metadata": {},
   "source": [
    "## Given a tree, check whether it satisfies the property of a binary tree\n",
    "\n",
    "A binary tree is a tree where each node has at most 2 children."
   ]
  },
  {
   "cell_type": "code",
   "execution_count": 11,
   "id": "06ec5f87",
   "metadata": {},
   "outputs": [
    {
     "name": "stdout",
     "output_type": "stream",
     "text": [
      "Yes\n"
     ]
    }
   ],
   "source": [
    "# 🌳 Function to check if the given undirected graph can represent a Binary Tree\n",
    "# In a binary tree:\n",
    "# - The root node (assumed as node 0 here) has at most 2 children → degree ≤ 2\n",
    "# - Other nodes can have 1 parent and up to 2 children → degree ≤ 3\n",
    "\n",
    "def is_binary_tree(node_count, edge_list):\n",
    "    # Step 1: Create an adjacency list for the graph\n",
    "    adjacency_list = [[] for _ in range(node_count)]\n",
    "\n",
    "    # Step 2: Fill the adjacency list with undirected edges\n",
    "    for u, v in edge_list:\n",
    "        adjacency_list[u].append(v)\n",
    "        adjacency_list[v].append(u)\n",
    "\n",
    "    # Step 3: Check degree conditions for a binary tree\n",
    "    for i in range(node_count):\n",
    "        degree = len(adjacency_list[i])\n",
    "        \n",
    "        # For root (assumed node 0), it can have at most 2 neighbors (children)\n",
    "        if i == 0 and degree > 2:\n",
    "            return False\n",
    "        # For other nodes, they can have at most 3 neighbors (1 parent + 2 children)\n",
    "        elif i != 0 and degree > 3:\n",
    "            return False\n",
    "\n",
    "    return True\n",
    "\n",
    "\n",
    "# ✅ Test Case 1: Valid Binary Tree\n",
    "edges_case_1 = [(0, 1), (0, 2), (1, 3), (1, 4)]\n",
    "node_count_case_1 = 5\n",
    "# All degrees are valid → This is a binary tree\n",
    "print(\"Yes\" if is_binary_tree(node_count_case_1, edges_case_1) else \"No\")\n"
   ]
  },
  {
   "cell_type": "markdown",
   "id": "ea42c8bf",
   "metadata": {},
   "source": [
    "## Find the Height of a Tree\n",
    "\n",
    "The **height of a tree** is defined as the length of the longest path from the **root** node to any **leaf** node.  \n",
    "In this problem, we will calculate the height using **recursion**, considering that the **height of a leaf node is 0**.\n",
    "\n"
   ]
  },
  {
   "cell_type": "code",
   "execution_count": 22,
   "id": "50a9f162",
   "metadata": {},
   "outputs": [
    {
     "name": "stdout",
     "output_type": "stream",
     "text": [
      "Height of tree: 2\n"
     ]
    }
   ],
   "source": [
    "# Function to find the height of a tree using recursion (DFS)\n",
    "# Height of a tree = number of edges in the longest path from root to a leaf node\n",
    "\n",
    "def find_height(tree_nodes, node):\n",
    "    # Base Case: If current node has no children, it's a leaf → height = 0\n",
    "    if len(tree_nodes[node]) == 0:\n",
    "        return 0 \n",
    "\n",
    "    max_h = 0  # To track the maximum height among all child subtrees\n",
    "\n",
    "    # Recursive step: Check height of each child\n",
    "    for child in tree_nodes[node]:\n",
    "        child_h = find_height(tree_nodes, child)\n",
    "        max_h = max(max_h, child_h)  # Take the max among all children\n",
    "\n",
    "    return 1 + max_h  # Add 1 for the current level\n",
    "\n",
    "# ✅ Test Tree\n",
    "\n",
    "Tree_nodes = {\n",
    "    's4': ['s2', 's5'],\n",
    "    's2': ['s1', 's3'],\n",
    "    's5': [],\n",
    "    's1': [],\n",
    "    's3': []\n",
    "}\n",
    "\n",
    "# Height = 2 (Longest path: s4 → s2 → s1 or s3)\n",
    "print(\"Height of tree:\", find_height(Tree_nodes, 's4'))  # Output: 2\n"
   ]
  },
  {
   "cell_type": "markdown",
   "id": "33b00184",
   "metadata": {},
   "source": [
    "## Check Depth of a Node in a Tree\n",
    "\n",
    "Depth is defined as the number of edges from the root node to the given node."
   ]
  },
  {
   "cell_type": "code",
   "execution_count": 23,
   "id": "d13910ab",
   "metadata": {},
   "outputs": [
    {
     "name": "stdout",
     "output_type": "stream",
     "text": [
      "Depth of s14: 3\n",
      "Depth of s1: 0\n",
      "Depth of xyz: node not found or INVALID input\n"
     ]
    }
   ],
   "source": [
    "# Function to find the depth of a given node in a tree\n",
    "# Depth = number of edges from the root node ('s1') to the given node\n",
    "\n",
    "def find_depth(tree_node, node, curr=0):\n",
    "    # Base case: if the node is root itself, depth is 0\n",
    "    if node == \"s1\":  \n",
    "        return curr\n",
    "\n",
    "    # Recursive case: check each parent if it has the target node as child\n",
    "    for parent, children in tree_node.items():\n",
    "        if node in children:\n",
    "            # Recur by moving up to the parent and increasing depth\n",
    "            return find_depth(tree_node, parent, curr + 1)\n",
    "\n",
    "    # If node not found in any child list\n",
    "    return \"node not found or INVALID input\"\n",
    "\n",
    "\n",
    "# ✅ Test Tree\n",
    "Tree_nodes = {\n",
    "    's1': ['s2', 's3', 's4'],\n",
    "    's2': ['s5', 's6'],\n",
    "    's4': ['s7', 's8', 's9'],\n",
    "    's5': ['s10', 's11'],\n",
    "    's6': ['s12'],\n",
    "    's9': ['s13', 's14']\n",
    "}\n",
    "\n",
    "# ✅ Test Cases\n",
    "print(\"Depth of s14:\", find_depth(Tree_nodes, 's14'))   # Expected: 3\n",
    "print(\"Depth of s1:\", find_depth(Tree_nodes, 's1'))     # Expected: 0 (root)\n",
    "print(\"Depth of xyz:\", find_depth(Tree_nodes, 'xyz'))   # Expected: node not found or INVALID input\n"
   ]
  },
  {
   "cell_type": "markdown",
   "id": "f3dff1ca",
   "metadata": {},
   "source": [
    "## THANK YOU"
   ]
  },
  {
   "cell_type": "markdown",
   "id": "646eaa97",
   "metadata": {},
   "source": [
    "Happy Coding!"
   ]
  }
 ],
 "metadata": {
  "kernelspec": {
   "display_name": "Python 3",
   "language": "python",
   "name": "python3"
  },
  "language_info": {
   "codemirror_mode": {
    "name": "ipython",
    "version": 3
   },
   "file_extension": ".py",
   "mimetype": "text/x-python",
   "name": "python",
   "nbconvert_exporter": "python",
   "pygments_lexer": "ipython3",
   "version": "3.11.9"
  }
 },
 "nbformat": 4,
 "nbformat_minor": 5
}
